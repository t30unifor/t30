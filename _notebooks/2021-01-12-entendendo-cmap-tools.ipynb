{
 "cells": [
  {
   "cell_type": "markdown",
   "metadata": {},
   "source": [
    "# CmapTools, o app essencial nos GTs\n",
    "> Explicação sobre Mapas Mentais vs Mapas Conceituais e o aplicativo Cmaps.\n",
    "\n",
    "- toc: true \n",
    "- badges: false\n",
    "- comments: true\n",
    "- categories: [cmap]"
   ]
  },
  {
   "cell_type": "markdown",
   "metadata": {},
   "source": [
    "## O que é o Cmap Tools?\n",
    "\n",
    "Cmaps é um software de produção de mapas conceituais e de mapas mentais (porém principalmente de mapas conceituais).\n",
    "\n",
    "## Em que classe eu vou usar esse programa?\n",
    "\n",
    "Os GTs na unifor valorizam a o método PBL de aprendizagem e requerem o uso de mapas conceituais para fixar o material. O aplicativo Cmaps é o mais recomendado pelos professores.\n",
    "\n",
    "O vídeo abaixo explica em mais detalhes o método PBL.\n",
    "\n",
    ">youtube: https://youtu.be/DjjxDNV5uzM\n",
    "\n",
    "## Mapa Mental vs. Mapa Conceitual\n",
    "\n",
    "Vou usar a descrição do Prof. Filippo Valiante. Para ler mais, o site dele está disponível [aqui](http://prof.valiante.info/dicas-de/mapa-mental-e-mapa-conceitual).\n",
    "> Nos mapas mentais, há sempre uma ideia central (raiz), a partir da qual se \"puxam\" as ideias conectadas (galhos), numa estrutura em árvore. Em cada \"nó\", ou \"caixa\" do mapa, há apenas uma palavra, ou uma pequena frase. A organização é feita de forma a encadear o pensamento. E vale tudo: trabalhar com as cores, inserir imagens, etc.  \n",
    "\n",
    "\n",
    ">Os mapas conceituais diferem dos mentais pela presença de uma conexão entre os conceitos registrados nos nós, ou caixas. Essa conexão é feita sempre com um verbo, ou locução. Por exemplo: \"é\", \"pode ser\", \"deriva de\", \"pode ser feito com\", \"constituem\". É também muito comum que os conceitos sejam interligados, numa estrutura mais para rede do que para árvore.  \n",
    "\n",
    "\n",
    "## Instalação\n",
    "\n",
    "Para instalar o app, basta seguir as instruções nesse [link](https://cmap.ihmc.us/cmaptools/cmaptools-download/).\n",
    "\n",
    ">Important: É necessário preencher o formnulário no site para que os botões de download fiquem disponíveis.   \n",
    "\n",
    "## O Básico de CmapTools\n",
    "\n",
    "Após instalação, você já pode começar a criar os seus mapas conceituais. Um guia básico de utilização poderá ser encontrado no vídeo abaixo, mas logo em seguida vão ter dicas de como customizar e elevar os seus mapas mentais para o próximo nível. Recomendo começar o vídeo no minuto 5:17.\n",
    "\n",
    "\n",
    ">youtube: https://youtu.be/V7FfaAkmUy8?t=317\n",
    "\n",
    "###  Documentação\n",
    "\n",
    "A documentação completa do aplicativo Cmaps (com instruções e imagens em inglês, espanhol e francês) estão [disponíveis aqui](https://cmap.ihmc.us/docs/cmaptools-help/). Em um futuro próximo, prentendo construir um tutorial extensivo sobre o passo a passo necessário para fazer um mapa mental, talvez até um vídeo.\n",
    "\n",
    "### Dúvidas\n",
    "\n",
    "Teve dúvidas ou sugestões? Escreva nos comentários desse post ou mande no grupo da T30. Agora você tem o poder dos mapas conceituais nas suas mãos.\n",
    "\n",
    ">Escrito por Alexandre Filho."
   ]
  }
 ],
 "metadata": {
  "kernelspec": {
   "display_name": "Python 3",
   "language": "python",
   "name": "python3"
  },
  "language_info": {
   "codemirror_mode": {
    "name": "ipython",
    "version": 3
   },
   "file_extension": ".py",
   "mimetype": "text/x-python",
   "name": "python",
   "nbconvert_exporter": "python",
   "pygments_lexer": "ipython3",
   "version": "3.8.3"
  },
  "varInspector": {
   "cols": {
    "lenName": 16,
    "lenType": 16,
    "lenVar": 40
   },
   "kernels_config": {
    "python": {
     "delete_cmd_postfix": "",
     "delete_cmd_prefix": "del ",
     "library": "var_list.py",
     "varRefreshCmd": "print(var_dic_list())"
    },
    "r": {
     "delete_cmd_postfix": ") ",
     "delete_cmd_prefix": "rm(",
     "library": "var_list.r",
     "varRefreshCmd": "cat(var_dic_list()) "
    }
   },
   "types_to_exclude": [
    "module",
    "function",
    "builtin_function_or_method",
    "instance",
    "_Feature"
   ],
   "window_display": false
  }
 },
 "nbformat": 4,
 "nbformat_minor": 4
}
