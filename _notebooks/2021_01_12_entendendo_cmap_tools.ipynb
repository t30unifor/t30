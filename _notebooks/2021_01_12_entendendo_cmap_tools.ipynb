{
  "nbformat": 4,
  "nbformat_minor": 0,
  "metadata": {
    "colab": {
      "name": "2021-01-12-entendendo-cmap-tools.ipynb",
      "provenance": []
    },
    "kernelspec": {
      "name": "python3",
      "display_name": "Python 3"
    }
  },
  "cells": [
    {
      "cell_type": "markdown",
      "metadata": {
        "id": "FGd6umt39KtX"
      },
      "source": [
        "# CmapTools, o app essencial nos GTs\n",
        "> Explicação sobre Mapas Mentais vs Mapas Conceituais e o aplicativo Cmaps.\n",
        "\n",
        "- toc: true \n",
        "- badges: true\n",
        "- comments: true\n",
        "- categories: [cmap][mapa-mental]"
      ]
    },
    {
      "cell_type": "markdown",
      "metadata": {
        "id": "_oqthSaL5q4d"
      },
      "source": [
        "## O que é o Cmap Tools?\n",
        "\n",
        "Cmaps é um software de produção de mapas conceituais e de mapas mentais (porém principalmente de mapas conceituais).\n",
        "\n",
        "## Em que classe eu vou usar esse programa?\n",
        "\n",
        "Os GTs na unifor valorizam a o método PBL de aprendizagem e requerem o uso de mapas conceituais para fixar o material. O aplicativo Cmaps é o mais recomendado pelos professores.\n",
        "\n",
        "O vídeo abaixo explica em mais detalhes o método PBL.\n",
        "\n",
        ">youtube: https://www.youtube.com/watch?v=DjjxDNV5uzM&t=108s\n",
        "\n",
        "## Mapa Mental vs. Mapa Conceitual\n",
        "\n",
        "Vou usar a descrição do Prof. Filippo Valiante. Para ler mais, o site dele está disponível [aqui](http://prof.valiante.info/dicas-de/mapa-mental-e-mapa-conceitual).\n",
        "> Nos mapas mentais, há sempre uma ideia central (raiz), a partir da qual se \"puxam\" as ideias conectadas (galhos), numa estrutura em árvore. Em cada \"nó\", ou \"caixa\" do mapa, há apenas uma palavra, ou uma pequena frase. A organização é feita de forma a encadear o pensamento. E vale tudo: trabalhar com as cores, inserir imagens, etc.\n",
        "\n",
        ">Os mapas conceituais diferem dos mentais pela presença de uma conexão entre os conceitos registrados nos nós, ou caixas. Essa conexão é feita sempre com um verbo, ou locução. Por exemplo: \"é\", \"pode ser\", \"deriva de\", \"pode ser feito com\", \"constituem\". É também muito comum que os conceitos sejam interligados, numa estrutura mais para rede do que para árvore.\n",
        "\n",
        "## O Tutorial Completo de Cmaps Tools\n",
        "\n",
        "Para instalar o app, basta seguir as instruções nesse [link](https://cmap.ihmc.us/cmaptools/cmaptools-download/).\n",
        ">Important: É necessário preencher o formnulário no site para que os botões de download fiquem disponíveis.  \n",
        "\n",
        "Após instalação, você já pode começar a criar os seus mapas conceituais. Um guia básico de utilização poderá ser encontrado no vídeo abaixo, mas logo em seguida vão ter dicas de como customizar e elevar os seus mapas mentais para o próximo nível.\n",
        ">youtube: https://youtu.be/V7FfaAkmUy8?t=317"
      ]
    }
  ]
}